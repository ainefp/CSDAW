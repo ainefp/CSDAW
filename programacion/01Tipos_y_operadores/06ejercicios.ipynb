{
 "cells": [
  {
   "cell_type": "markdown",
   "metadata": {},
   "source": [
    "# Ejercicios UD1\n",
    "\n",
    "## Ejercicio 1\n",
    "\n",
    "Crea un programa que pida un número al usuario y muestre su doble.\n"
   ]
  },
  {
   "cell_type": "code",
   "execution_count": 2,
   "metadata": {},
   "outputs": [
    {
     "name": "stdout",
     "output_type": "stream",
     "text": [
      "El doble de 4 es 8\n"
     ]
    }
   ],
   "source": [
    "num = int(input(\"Inserte un número a continuación\"))\n",
    "print(\"El doble de\", num, \"es\", num * 2)"
   ]
  },
  {
   "cell_type": "markdown",
   "metadata": {},
   "source": [
    "\n",
    "## Ejercicio 2\n",
    "\n",
    "Crea un programa que pida el usuario la base y exponente de una potencia y calcule su resultado.\n"
   ]
  },
  {
   "cell_type": "code",
   "execution_count": 2,
   "metadata": {},
   "outputs": [
    {
     "name": "stdout",
     "output_type": "stream",
     "text": [
      "El resultado de la potencia es: 8\n"
     ]
    }
   ],
   "source": [
    "base = int(input(\"Inserte a continuación la base de la potencia\"))\n",
    "exp = int(input(\"Inserte a continuación el exponente de la potencia\"))\n",
    "ope = base ** exp\n",
    "print(\"El resultado de la potencia es:\", ope)"
   ]
  },
  {
   "cell_type": "markdown",
   "metadata": {},
   "source": [
    "\n",
    "## Ejercicio 3\n",
    "\n",
    "Busca en la documentación oficial de Python qué realiza y cómo se utiliza la función `round()` (https://docs.python.org/3/library/functions.html). Prueba algunos ejemplos con diferentes números. Utilízala para redondear los resultados de los siguientes ejercicios.\n"
   ]
  },
  {
   "cell_type": "code",
   "execution_count": 6,
   "metadata": {},
   "outputs": [
    {
     "name": "stdout",
     "output_type": "stream",
     "text": [
      "1515.33\n"
     ]
    }
   ],
   "source": [
    "#La función round redondea los números, el dígito que pongo al lado son los decimales que redondea\n",
    "division = 4546 / 3\n",
    "print(round(division, 2))\n"
   ]
  },
  {
   "cell_type": "code",
   "execution_count": 10,
   "metadata": {},
   "outputs": [
    {
     "name": "stdout",
     "output_type": "stream",
     "text": [
      "El resultado de la división es: 1551\n"
     ]
    }
   ],
   "source": [
    "dividendo = int(input(\"Inserte el dividendo\"))\n",
    "divisor = int(input(\"Inserte el divisor\"))\n",
    "div = dividendo / divisor\n",
    "print(\"El resultado de la división es:\", round(div))"
   ]
  },
  {
   "cell_type": "markdown",
   "metadata": {},
   "source": [
    "\n",
    "## Ejercicio 4\n",
    "\n",
    "Crea un programa que dado el nombre de una persona y su peso y altura en kg y cm, imprime su peso en libras, su altura en pies y su IMC (Índice de Masa Corporal). "
   ]
  },
  {
   "cell_type": "code",
   "execution_count": null,
   "metadata": {},
   "outputs": [],
   "source": []
  },
  {
   "cell_type": "code",
   "execution_count": 9,
   "metadata": {},
   "outputs": [
    {
     "name": "stdout",
     "output_type": "stream",
     "text": [
      "Hola Ainé, tu peso en libras es 105.8 y tu altura en pies es 5.1\n",
      "Además tienes un índice de masa corporal, calculado con tu peso en kg y tu altura en metros, de 20\n"
     ]
    }
   ],
   "source": [
    "nome = input(\"¿Cómo te llamas?\")\n",
    "kg = float(input(\"¿Cúal es tu peso en kg?\"))\n",
    "cm = int(input(\"¿Cuál es tu altura en cm?\"))\n",
    "#Para calcular las libras hacemos una regla de tres (su peso * 2.2046 entre 1)\n",
    "libras = kg * 2.2046 \n",
    "#Para calcular la altura hacemos una regla de tres (su altura * 0.03281 entre 1)\n",
    "pies = cm * 0.03281\n",
    "#Para calcular el Índice de Masa Corporal dividimos el peso entre la altura\n",
    "m = cm / 100\n",
    "imc = kg / (m * m)\n",
    "print(\"Hola \", nome, \", tu peso en libras es \", round(libras, 1), \" y tu altura en pies es \", round(pies, 1), sep=\"\")\n",
    "print(\"Además tienes un índice de masa corporal, calculado con tu peso en kg y tu altura en metros, de\", round(imc))"
   ]
  },
  {
   "cell_type": "markdown",
   "metadata": {},
   "source": [
    "\n",
    "## Ejercicio 5\n",
    "\n",
    "Crea un programa que dada una cantidad en euros, devuelve su valor en dólares.\n"
   ]
  },
  {
   "cell_type": "code",
   "execution_count": 26,
   "metadata": {},
   "outputs": [
    {
     "name": "stdout",
     "output_type": "stream",
     "text": [
      "La cantidad en dólares es: 510.72\n"
     ]
    }
   ],
   "source": [
    "#Hacemos una regla de tres para pasar de euro a dolar\n",
    "dolar = float(input(\"Inserta una cifra (en \\u20AC)\")) * 1.12\n",
    "print(\"La cantidad en dólares es:\", dolar)"
   ]
  },
  {
   "cell_type": "markdown",
   "metadata": {},
   "source": [
    "## Ejercicio 6\n",
    "\n",
    "Crea un programa que dada una cantidad en dólares, devuelve su valor en euros.\n"
   ]
  },
  {
   "cell_type": "code",
   "execution_count": 28,
   "metadata": {},
   "outputs": [
    {
     "name": "stdout",
     "output_type": "stream",
     "text": [
      "La cantidad en euros es: 459.648\n"
     ]
    }
   ],
   "source": [
    "#Hacemos una regla de tres para pasar de dolar a euro\n",
    "euro = float(input(\"Inserta una cifra (en \\u0024)\")) * 0.9\n",
    "print(\"La cantidad en euros es:\", euro)"
   ]
  },
  {
   "cell_type": "markdown",
   "metadata": {},
   "source": [
    "## Ejercicio 7\n",
    "\n",
    "Crea un programa que permita calcular la hipotenusa (`h`) de un triángulo rectángulo a partir de sus catetos (`a` y `b`)\n"
   ]
  },
  {
   "cell_type": "code",
   "execution_count": 15,
   "metadata": {},
   "outputs": [
    {
     "name": "stdout",
     "output_type": "stream",
     "text": [
      "La hipotenusa del triángulo es: 45.1\n"
     ]
    }
   ],
   "source": [
    "a = float(input(\"Inserte el valor del cateto a\"))\n",
    "b = float(input(\"Inserte el valor del cateto b\"))\n",
    "# h = √(a² + b²) ; raíz cuadrada: elevar a 0.5\n",
    "h = (a ** 2 + b ** 2) ** 0.5\n",
    "print(\"La hipotenusa del triángulo es:\", round(h, 2))"
   ]
  },
  {
   "cell_type": "markdown",
   "metadata": {},
   "source": [
    "OTRAS OPCIONES PARA RAÍZ CUADRADA:"
   ]
  },
  {
   "cell_type": "code",
   "execution_count": 13,
   "metadata": {},
   "outputs": [
    {
     "name": "stdout",
     "output_type": "stream",
     "text": [
      "6.4\n"
     ]
    }
   ],
   "source": [
    "# Opción 1:\n",
    "import math\n",
    "a = float(input(\"Inserte el valor del cateto a\"))\n",
    "b = float(input(\"Inserte el valor del cateto b\"))\n",
    "h = math.sqrt(a ** 2 + b ** 2)\n",
    "print(round(h, 2))\n",
    "\n",
    "# Opción 2:\n",
    "import math"
   ]
  },
  {
   "attachments": {
    "area-esfera.png": {
     "image/png": "[encoded data removed]"
    },
    "volumen-esfera.png": {
     "image/png": "[encoded data removed]"
    }
   },
   "cell_type": "markdown",
   "metadata": {},
   "source": [
    " \n",
    "## Ejercicio 8\n",
    "\n",
    "Crea un programa que permita calcular el área y volumen de una esfera a partir de su radio (r).\n",
    "\n",
    "![area-esfera.png](attachment:area-esfera.png)\n",
    "\n",
    "![volumen-esfera.png](attachment:volumen-esfera.png)\n",
    "\n",
    "Para utilizar la constante PI, debes seguir estos pasos:\n"
   ]
  },
  {
   "cell_type": "code",
   "execution_count": 33,
   "metadata": {},
   "outputs": [
    {
     "name": "stdout",
     "output_type": "stream",
     "text": [
      "3.141592653589793\n"
     ]
    }
   ],
   "source": [
    "import math\n",
    "print(math.pi)"
   ]
  },
  {
   "cell_type": "code",
   "execution_count": 2,
   "metadata": {},
   "outputs": [
    {
     "name": "stdout",
     "output_type": "stream",
     "text": [
      "El área de la esfera es 314\n",
      "El volumen de la esfera es 524\n"
     ]
    }
   ],
   "source": [
    "import math\n",
    "r = float(input(\"Inserte el el radio de la esfera\"))\n",
    "#Vamos a calcular el área primero\n",
    "a = 4 * math.pi * (r ** 2)\n",
    "print(\"El área de la esfera es\", round(a))\n",
    "#Vamos a calcular el volumen ahora\n",
    "v = (4 * math.pi * (r ** 3)) / 3\n",
    "print(\"El volumen de la esfera es\", round(v))"
   ]
  },
  {
   "attachments": {
    "area-cilindro.png": {
     "image/png": "[encoded data removed]"
    },
    "volumen-cilindro.png": {
     "image/png": "[encoded data removed]"
    }
   },
   "cell_type": "markdown",
   "metadata": {},
   "source": [
    "\n",
    "## Ejercicio 9\n",
    "\n",
    "Crea un programa que dado el radio (r) y la altura (h) del cilindro, calcula su área y volumen.\n",
    "\n",
    "![area-cilindro.png](attachment:area-cilindro.png)\n",
    "\n",
    "![volumen-cilindro.png](attachment:volumen-cilindro.png)\n"
   ]
  },
  {
   "cell_type": "code",
   "execution_count": 6,
   "metadata": {},
   "outputs": [
    {
     "name": "stdout",
     "output_type": "stream",
     "text": [
      "El área del cilindro es 471\n",
      "El volumen del cilindro es 785\n"
     ]
    }
   ],
   "source": [
    "import math\n",
    "r = float(input(\"Inserte el radio del cilindro\"))\n",
    "h = float(input(\"Inserte la altura del cilindro\"))\n",
    "#Vamos a calcular el área primero\n",
    "a = 2 * math.pi * r * (r + h)\n",
    "print(\"El área del cilindro es\", round(a))\n",
    "#Vamos a calcular el volumen ahora\n",
    "v = math.pi * (r ** 2) * h\n",
    "print(\"El volumen del cilindro es\", round(v))"
   ]
  },
  {
   "attachments": {
    "formula-x-y.png": {
     "image/png": "[encoded data removed]"
    }
   },
   "cell_type": "markdown",
   "metadata": {},
   "source": [
    "\n",
    "## Ejercicio 10\n",
    "\n",
    "Crea un programa que pida un valor por pantalla (x) y haga el siguiente cálculo:\n",
    "\n",
    "![formula-x-y.png](attachment:formula-x-y.png)\n",
    "\n",
    " \n",
    "Puedes hacer pruebas con los siguientes datos:\n",
    "\n",
    "|x|y|\n",
    "|-|-|\n",
    "|1|0.6000000000000001|\n",
    "|10|0.09901951266867294|\n",
    "|100|0.009999000199950014|\n",
    "|-5|-0.19258202567760344|\n"
   ]
  },
  {
   "cell_type": "code",
   "execution_count": 18,
   "metadata": {},
   "outputs": [
    {
     "name": "stdout",
     "output_type": "stream",
     "text": [
      "y = 0.009999000199950014\n"
     ]
    }
   ],
   "source": [
    "x = float(input(\"Inserte un valor para x\"))\n",
    "y = 1 / (x + 1 / (x + 1 / (x + 1 / x)))\n",
    "print(\"y =\", y)"
   ]
  },
  {
   "cell_type": "markdown",
   "metadata": {},
   "source": [
    "## Ejercicio 11\n",
    "\n",
    "Crea un programa que a partir de la hora de comienzo de un evento y su duración (3 valores: hora, minutos, duración en minutos) calcula la hora de finalización del evento. No te preocupes de los errores que pueda introducir el usuario (hora inválida).\n",
    "\n",
    "PISTA: Emplea el operador módulo (`%`)\n",
    "\n",
    "\n"
   ]
  },
  {
   "cell_type": "code",
   "execution_count": 23,
   "metadata": {},
   "outputs": [
    {
     "name": "stdout",
     "output_type": "stream",
     "text": [
      "El evento finaliza a la 1:44\n"
     ]
    }
   ],
   "source": [
    "hinicio = int(input(\"Indique la hora de inicio del evento\"))\n",
    "mininicio = int(input(\"Indique los minutos de inicio del evento\"))\n",
    "dura = int(input(\"Indique la duración del evento (en minutos)\"))\n",
    "#Resolución de la profesora: (hay que saber mates)\n",
    "mintotal = mininicio + dura\n",
    "minfinal = mintotal % 60\n",
    "hfinal = (hinicio + mintotal // 60) %24\n",
    "print(\"El evento finaliza a la\", end=\" \"); print(hfinal, minfinal, sep=\":\")"
   ]
  }
 ],
 "metadata": {
  "kernelspec": {
   "display_name": "Python 3",
   "language": "python",
   "name": "python3"
  },
  "language_info": {
   "codemirror_mode": {
    "name": "ipython",
    "version": 3
   },
   "file_extension": ".py",
   "mimetype": "text/x-python",
   "name": "python",
   "nbconvert_exporter": "python",
   "pygments_lexer": "ipython3",
   "version": "3.12.3"
  },
  "orig_nbformat": 4
 },
 "nbformat": 4,
 "nbformat_minor": 2
}
