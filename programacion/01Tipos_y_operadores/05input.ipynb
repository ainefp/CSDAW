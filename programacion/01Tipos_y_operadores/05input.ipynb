{
 "cells": [
  {
   "cell_type": "markdown",
   "metadata": {},
   "source": [
    "# La función `input()`\n",
    "\n",
    "La función `input()` permite al usuario introducir datos desde el teclado. \n",
    "\n",
    "El valor que devuelve debe ser asignado a una variable:\n"
   ]
  },
  {
   "cell_type": "code",
   "execution_count": 26,
   "metadata": {},
   "outputs": [
    {
     "name": "stdout",
     "output_type": "stream",
     "text": [
      "¿Cómo te llamas?\n",
      "Hola ainé\n"
     ]
    }
   ],
   "source": [
    "print(\"¿Cómo te llamas?\")\n",
    "nombre = input()\n",
    "print(\"Hola\", nombre)"
   ]
  },
  {
   "cell_type": "code",
   "execution_count": 27,
   "metadata": {},
   "outputs": [
    {
     "name": "stdout",
     "output_type": "stream",
     "text": [
      "ainé\n",
      "19\n"
     ]
    }
   ],
   "source": [
    "nombre = input(\"¿Cómo te llamas?\")\n",
    "print(nombre)\n",
    "edad = input(\"¿Qué edad tienes?\")\n",
    "print(edad)"
   ]
  },
  {
   "cell_type": "markdown",
   "metadata": {},
   "source": [
    "También puede utilizarse con un argumento, en el que se le pasa el mensaje a mostrar al usuario antes de dejarle escribir el valor."
   ]
  },
  {
   "cell_type": "code",
   "execution_count": 23,
   "metadata": {},
   "outputs": [
    {
     "name": "stdout",
     "output_type": "stream",
     "text": [
      "Hola ainé\n"
     ]
    }
   ],
   "source": [
    "nombre = input(\"¿Cómo te llamas?\")\n",
    "print(\"Hola\", nombre)"
   ]
  },
  {
   "cell_type": "markdown",
   "metadata": {},
   "source": [
    "## El resultado de la función `input()`\n",
    "\n",
    "El resultado de la función `input()` es una cadena.\n",
    "\n",
    "Una cadena que contiene todos los caracteres que el usuario introduce desde el teclado. No es un entero ni un número en coma flotante.\n"
   ]
  },
  {
   "cell_type": "code",
   "execution_count": 24,
   "metadata": {},
   "outputs": [
    {
     "name": "stdout",
     "output_type": "stream",
     "text": [
      "Vamos a calcular el cuadrado de un número\n"
     ]
    },
    {
     "ename": "TypeError",
     "evalue": "unsupported operand type(s) for ** or pow(): 'str' and 'int'",
     "output_type": "error",
     "traceback": [
      "\u001b[0;31m---------------------------------------------------------------------------\u001b[0m",
      "\u001b[0;31mTypeError\u001b[0m                                 Traceback (most recent call last)",
      "Cell \u001b[0;32mIn[24], line 3\u001b[0m\n\u001b[1;32m      1\u001b[0m \u001b[38;5;28mprint\u001b[39m(\u001b[38;5;124m\"\u001b[39m\u001b[38;5;124mVamos a calcular el cuadrado de un número\u001b[39m\u001b[38;5;124m\"\u001b[39m)\n\u001b[1;32m      2\u001b[0m numero \u001b[38;5;241m=\u001b[39m \u001b[38;5;28minput\u001b[39m(\u001b[38;5;124m\"\u001b[39m\u001b[38;5;124mIntroduce un número: \u001b[39m\u001b[38;5;124m\"\u001b[39m)\n\u001b[0;32m----> 3\u001b[0m \u001b[38;5;28mprint\u001b[39m(\u001b[38;5;124m\"\u001b[39m\u001b[38;5;124mEl cuadrado de\u001b[39m\u001b[38;5;124m\"\u001b[39m, numero, \u001b[38;5;124m\"\u001b[39m\u001b[38;5;124mes\u001b[39m\u001b[38;5;124m\"\u001b[39m, \u001b[43mnumero\u001b[49m\u001b[43m \u001b[49m\u001b[38;5;241;43m*\u001b[39;49m\u001b[38;5;241;43m*\u001b[39;49m\u001b[43m \u001b[49m\u001b[38;5;241;43m2\u001b[39;49m)\n",
      "\u001b[0;31mTypeError\u001b[0m: unsupported operand type(s) for ** or pow(): 'str' and 'int'"
     ]
    }
   ],
   "source": [
    "print(\"Vamos a calcular el cuadrado de un número\")\n",
    "numero = input(\"Introduce un número: \")\n",
    "print(\"El cuadrado de\", numero, \"es\", numero ** 2)"
   ]
  },
  {
   "cell_type": "markdown",
   "metadata": {},
   "source": [
    "\n",
    "Esto significa que no se debe utilizar como un argumento para operaciones matemáticas, antes debe convertirse a un valor numérico (*casting*). Para ello utilizamos las funciones:\n",
    "\n",
    " - `int()` toma un argumento (por ejemplo, una cadena: `int(string)`) e intenta convertirlo a un valor entero; si llegase a fallar, el programa entero fallará también.\n"
   ]
  },
  {
   "cell_type": "code",
   "execution_count": 17,
   "metadata": {},
   "outputs": [
    {
     "name": "stdout",
     "output_type": "stream",
     "text": [
      "Vamos a calcular el cuadrado de un número\n",
      "El cuadrado de 4 es 16\n"
     ]
    }
   ],
   "source": [
    "print(\"Vamos a calcular el cuadrado de un número\")\n",
    "numero = input(\"Introduce un número: \")\n",
    "print(\"El cuadrado de\", numero, \"es\", int(numero) ** 2)"
   ]
  },
  {
   "cell_type": "code",
   "execution_count": null,
   "metadata": {},
   "outputs": [],
   "source": [
    "# EJEMPLO\n",
    "num1 = 2\n",
    "num2 = input(\"Inserta el segundo número\")\n",
    "suma = num1 + int(num2)\n",
    "print(suma)\n",
    "\n",
    "# Puedo poner el int() directamente en el input, si sé que el número no se va a usar como cadena en ningún caso.\n",
    "# Esto es útil cuando es una operación más grande\n",
    "num1 = 2\n",
    "num2 = int(input(\"Inserta el segundo número\"))\n",
    "suma = num1 + num2\n",
    "print(suma)"
   ]
  },
  {
   "cell_type": "markdown",
   "metadata": {},
   "source": [
    "También fallará si le introduzco un valor en coma flotante, por ejemplo: `1.5` o `3E4`"
   ]
  },
  {
   "cell_type": "markdown",
   "metadata": {},
   "source": [
    " - `float()` toma un argumento (por ejemplo, una cadena: `float(string)`) e intenta convertirlo a flotante; si llegase a fallar, el programa entero fallará también."
   ]
  },
  {
   "cell_type": "code",
   "execution_count": 18,
   "metadata": {},
   "outputs": [
    {
     "name": "stdout",
     "output_type": "stream",
     "text": [
      "Vamos a calcular el cuadrado de un número\n",
      "El cuadrado de 5.5 es 30.25\n"
     ]
    }
   ],
   "source": [
    "#float es lo mismo que int pero con números con decimales\n",
    "print(\"Vamos a calcular el cuadrado de un número\")\n",
    "numero = input(\"Introduce un número: \")\n",
    "print(\"El cuadrado de\", numero, \"es\", float(numero) ** 2)"
   ]
  },
  {
   "cell_type": "markdown",
   "metadata": {},
   "source": [
    "- `str()` toma un argumento y lo convierte a cadena."
   ]
  },
  {
   "cell_type": "code",
   "execution_count": 20,
   "metadata": {},
   "outputs": [
    {
     "ename": "TypeError",
     "evalue": "can only concatenate str (not \"int\") to str",
     "output_type": "error",
     "traceback": [
      "\u001b[0;31m---------------------------------------------------------------------------\u001b[0m",
      "\u001b[0;31mTypeError\u001b[0m                                 Traceback (most recent call last)",
      "Cell \u001b[0;32mIn[20], line 2\u001b[0m\n\u001b[1;32m      1\u001b[0m dia \u001b[38;5;241m=\u001b[39m \u001b[38;5;241m15\u001b[39m\n\u001b[0;32m----> 2\u001b[0m \u001b[38;5;28mprint\u001b[39m(\u001b[38;5;124;43m\"\u001b[39;49m\u001b[38;5;124;43mEl día es \u001b[39;49m\u001b[38;5;124;43m\"\u001b[39;49m\u001b[43m \u001b[49m\u001b[38;5;241;43m+\u001b[39;49m\u001b[43m \u001b[49m\u001b[43mdia\u001b[49m)\n",
      "\u001b[0;31mTypeError\u001b[0m: can only concatenate str (not \"int\") to str"
     ]
    }
   ],
   "source": [
    "dia = 15\n",
    "print(\"El día es \" + dia)"
   ]
  },
  {
   "cell_type": "code",
   "execution_count": 25,
   "metadata": {},
   "outputs": [
    {
     "name": "stdout",
     "output_type": "stream",
     "text": [
      "El día es 15\n"
     ]
    }
   ],
   "source": [
    "# Convierte los números literales en cadenas\n",
    "dia = 15\n",
    "print(\"El día es \" + str(dia))"
   ]
  }
 ],
 "metadata": {
  "kernelspec": {
   "display_name": "Python 3",
   "language": "python",
   "name": "python3"
  },
  "language_info": {
   "codemirror_mode": {
    "name": "ipython",
    "version": 3
   },
   "file_extension": ".py",
   "mimetype": "text/x-python",
   "name": "python",
   "nbconvert_exporter": "python",
   "pygments_lexer": "ipython3",
   "version": "3.12.3"
  },
  "orig_nbformat": 4
 },
 "nbformat": 4,
 "nbformat_minor": 2
}
