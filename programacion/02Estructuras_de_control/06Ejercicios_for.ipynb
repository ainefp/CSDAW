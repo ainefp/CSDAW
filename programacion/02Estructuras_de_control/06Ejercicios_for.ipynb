{
 "cells": [
  {
   "cell_type": "markdown",
   "metadata": {},
   "source": [
    "# Ejercicios `for`"
   ]
  },
  {
   "cell_type": "markdown",
   "metadata": {},
   "source": [
    "## Ejercicio 1\n",
    "\n",
    "Crea un programa en Python que muestre los números del 100 al 1.\n",
    "\n",
    "Salida: Primero muestra cada número en una línea y a continuación muéstralos en la misma línea separados por un espacio en blanco.\n"
   ]
  },
  {
   "cell_type": "code",
   "execution_count": 2,
   "metadata": {},
   "outputs": [
    {
     "name": "stdout",
     "output_type": "stream",
     "text": [
      "100\n",
      "99\n",
      "98\n",
      "97\n",
      "96\n",
      "95\n",
      "94\n",
      "93\n",
      "92\n",
      "91\n",
      "90\n",
      "89\n",
      "88\n",
      "87\n",
      "86\n",
      "85\n",
      "84\n",
      "83\n",
      "82\n",
      "81\n",
      "80\n",
      "79\n",
      "78\n",
      "77\n",
      "76\n",
      "75\n",
      "74\n",
      "73\n",
      "72\n",
      "71\n",
      "70\n",
      "69\n",
      "68\n",
      "67\n",
      "66\n",
      "65\n",
      "64\n",
      "63\n",
      "62\n",
      "61\n",
      "60\n",
      "59\n",
      "58\n",
      "57\n",
      "56\n",
      "55\n",
      "54\n",
      "53\n",
      "52\n",
      "51\n",
      "50\n",
      "49\n",
      "48\n",
      "47\n",
      "46\n",
      "45\n",
      "44\n",
      "43\n",
      "42\n",
      "41\n",
      "40\n",
      "39\n",
      "38\n",
      "37\n",
      "36\n",
      "35\n",
      "34\n",
      "33\n",
      "32\n",
      "31\n",
      "30\n",
      "29\n",
      "28\n",
      "27\n",
      "26\n",
      "25\n",
      "24\n",
      "23\n",
      "22\n",
      "21\n",
      "20\n",
      "19\n",
      "18\n",
      "17\n",
      "16\n",
      "15\n",
      "14\n",
      "13\n",
      "12\n",
      "11\n",
      "10\n",
      "9\n",
      "8\n",
      "7\n",
      "6\n",
      "5\n",
      "4\n",
      "3\n",
      "2\n",
      "1\n",
      "100 99 98 97 96 95 94 93 92 91 90 89 88 87 86 85 84 83 82 81 80 79 78 77 76 75 74 73 72 71 70 69 68 67 66 65 64 63 62 61 60 59 58 57 56 55 54 53 52 51 50 49 48 47 46 45 44 43 42 41 40 39 38 37 36 35 34 33 32 31 30 29 28 27 26 25 24 23 22 21 20 19 18 17 16 15 14 13 12 11 10 9 8 7 6 5 4 3 2 1 "
     ]
    }
   ],
   "source": [
    "for i in range(100, 0, -1):\n",
    "    print(i)\n",
    "for i in range(100, 0, -1):\n",
    "    print(i, end=\" \")"
   ]
  },
  {
   "cell_type": "markdown",
   "metadata": {},
   "source": [
    "## Ejercicio 2\n",
    "\n",
    "Crea un programa en Python que muestre los números del 1 a un número mayor introducido por teclado."
   ]
  },
  {
   "cell_type": "code",
   "execution_count": 8,
   "metadata": {},
   "outputs": [
    {
     "name": "stdout",
     "output_type": "stream",
     "text": [
      "1 2 3 4 5 6 7 8 9 10 "
     ]
    }
   ],
   "source": [
    "num = int((input(\"Introduzca el número final: \")))\n",
    "for i in range(1, num+1):\n",
    "    print(i, end=\" \")"
   ]
  },
  {
   "cell_type": "markdown",
   "metadata": {},
   "source": [
    "\n",
    "## Ejercicio 3\n",
    "\n",
    "Crea un programa en Python que muestre los números desde un número introducido por teclado hasta el 1, descendiendo de 1 en 1.\n"
   ]
  },
  {
   "cell_type": "code",
   "execution_count": 11,
   "metadata": {},
   "outputs": [
    {
     "name": "stdout",
     "output_type": "stream",
     "text": [
      "45 44 43 42 41 40 39 38 37 36 35 34 33 32 31 30 29 28 27 26 25 24 23 22 21 20 19 18 17 16 15 14 13 12 11 10 9 8 7 6 5 4 3 2 1 "
     ]
    }
   ],
   "source": [
    "num = int((input(\"Introduzca el número inicial: \")))\n",
    "for i in range(num, 0, -1):\n",
    "    print(i, end=\" \")"
   ]
  },
  {
   "cell_type": "markdown",
   "metadata": {},
   "source": [
    "## Ejercicio 4\n",
    "\n",
    "Crea un programa en Python que muestre los números desde un número mayor hasta otro menor introducidos por teclado. Comprueba que el primer número es mayor que el segundo, y si no lo es, muestra un mensaje y finaliza el programa."
   ]
  },
  {
   "cell_type": "code",
   "execution_count": 2,
   "metadata": {},
   "outputs": [
    {
     "name": "stdout",
     "output_type": "stream",
     "text": [
      "15 14 13 12 11 10 9 8 7 6 5 4 3 2 1 "
     ]
    }
   ],
   "source": [
    "num_mayor = int((input(\"Introduzca el número inicial: \")))\n",
    "num_menor = int((input(\"Introduzca el número final: \")))\n",
    "if num_mayor > num_menor:\n",
    "    for i in range(num_mayor, num_menor-1, -1):\n",
    "        print(i, end=\" \")\n",
    "else:\n",
    "    print(\"Debes introducir primero un número mayor\")"
   ]
  },
  {
   "cell_type": "markdown",
   "metadata": {},
   "source": [
    "## Ejercicio 5\n",
    "\n",
    "Crea un programa en Python que muestre el producto de los 10 primeros números impares.\n",
    "\n",
    "El resultado es **654729075**."
   ]
  },
  {
   "cell_type": "code",
   "execution_count": 8,
   "metadata": {},
   "outputs": [
    {
     "name": "stdout",
     "output_type": "stream",
     "text": [
      "654729075\n"
     ]
    }
   ],
   "source": [
    "op = 1\n",
    "for i in range(1, 21, 2):\n",
    "    op *= i\n",
    "print(op)"
   ]
  },
  {
   "cell_type": "markdown",
   "metadata": {},
   "source": [
    "## Ejercicio 6\n",
    "\n",
    "En algunos países anglosajones se emplea la palabra Mississippi para contar segundos, por ejemplo, para jugar al escondite. Crea un programa que cuente hasta 5 en segundos y, cuando acabe, muestre el mensaje “Voy!”. El resultado será el siguiente:\n",
    "\n",
    "```python\n",
    "1 Mississippi\n",
    "2 Mississippi\n",
    "3 Mississippi\n",
    "4 Mississippi\n",
    "5 Mississippi\n",
    "Voy!\n",
    "```\n",
    "\n",
    "Usa la función time.sleep() para esperar un segundo. Busca información de su uso.\n"
   ]
  },
  {
   "cell_type": "code",
   "execution_count": 11,
   "metadata": {},
   "outputs": [
    {
     "name": "stdout",
     "output_type": "stream",
     "text": [
      "1 Mississippi\n",
      "2 Mississippi\n",
      "3 Mississippi\n",
      "4 Mississippi\n",
      "5 Mississippi\n",
      "Voy!\n"
     ]
    }
   ],
   "source": [
    "import time\n",
    "for i in range(1, 6):\n",
    "    print(i, \"Mississippi\")\n",
    "    time.sleep(1)\n",
    "print(\"Voy!\")"
   ]
  },
  {
   "cell_type": "markdown",
   "metadata": {},
   "source": [
    "## Ejercicio 7: Devorador de vocales\n",
    "\n",
    "Crea un programa que pida al usuario una frase y le muestre esa frase en mayúsculas y sin las vocales."
   ]
  },
  {
   "cell_type": "code",
   "execution_count": 2,
   "metadata": {},
   "outputs": [
    {
     "ename": "SyntaxError",
     "evalue": "invalid syntax (<ipython-input-2-59b74e6cba66>, line 4)",
     "output_type": "error",
     "traceback": [
      "\u001b[0;36m  File \u001b[0;32m\"<ipython-input-2-59b74e6cba66>\"\u001b[0;36m, line \u001b[0;32m4\u001b[0m\n\u001b[0;31m    match letra:\u001b[0m\n\u001b[0m          ^\u001b[0m\n\u001b[0;31mSyntaxError\u001b[0m\u001b[0;31m:\u001b[0m invalid syntax\n"
     ]
    }
   ],
   "source": [
    "frase = input(\"Introduzca una frase a continuación: \")\n",
    "frase = frase.upper()\n",
    "for letra in frase:\n",
    "    match letra:\n",
    "        case \"a\" | \"e\" | \"i\" | \"o\" | \"u\":\n",
    "            print()\n",
    "        case _:\n",
    "            print(letra, end=\"\")\n",
    "    "
   ]
  },
  {
   "cell_type": "code",
   "execution_count": 10,
   "metadata": {},
   "outputs": [
    {
     "ename": "SyntaxError",
     "evalue": "invalid syntax (<ipython-input-10-05fb36ae1eed>, line 4)",
     "output_type": "error",
     "traceback": [
      "\u001b[0;36m  File \u001b[0;32m\"<ipython-input-10-05fb36ae1eed>\"\u001b[0;36m, line \u001b[0;32m4\u001b[0m\n\u001b[0;31m    match frase:\u001b[0m\n\u001b[0m          ^\u001b[0m\n\u001b[0;31mSyntaxError\u001b[0m\u001b[0;31m:\u001b[0m invalid syntax\n"
     ]
    }
   ],
   "source": [
    "frase = input(\"Introduzca una frase a continuación: \")\n",
    "frase = frase.upper()\n",
    "#for letra in frase:\n",
    "match frase:\n",
    "    case \"a\" | \"e\" | \"i\" | \"o\" | \"u\":\n",
    "        print()\n",
    "    case _:\n",
    "        print(\"letra\", end=\"\")\n",
    "\n",
    "serie = input(\"¿Cuál es tu serie favorita? \")\n",
    "serie = serie.lower()\n",
    "match serie:"
   ]
  },
  {
   "cell_type": "markdown",
   "metadata": {},
   "source": [
    "## Ejercicio 8: Contador de vocales\n",
    "\n",
    "Crea un programa que pida al usuario una frase y le diga cuántas vocales tiene esa frase."
   ]
  },
  {
   "cell_type": "markdown",
   "metadata": {},
   "source": [
    "## Ejercicio 9\n",
    "\n",
    "El alumnado del IES de Teis tiene un correo electrónico en el dominio `iesteis.es`. Este correo consiste en el nombre de usuario con el que acceden en las aulas seguido de `@iesteis.es`. Por ejemplo `a23mariarm@iesteis.es`. \n",
    "\n",
    "Escribe un programa en Python que pida al usuario un correo electrónico y devuelva el nombre de usuario. En este ejemplo: `a23mariarm`."
   ]
  }
 ],
 "metadata": {
  "kernelspec": {
   "display_name": "Python 3",
   "language": "python",
   "name": "python3"
  },
  "language_info": {
   "codemirror_mode": {
    "name": "ipython",
    "version": 3
   },
   "file_extension": ".py",
   "mimetype": "text/x-python",
   "name": "python",
   "nbconvert_exporter": "python",
   "pygments_lexer": "ipython3",
   "version": "3.9.2"
  },
  "orig_nbformat": 4
 },
 "nbformat": 4,
 "nbformat_minor": 2
}
