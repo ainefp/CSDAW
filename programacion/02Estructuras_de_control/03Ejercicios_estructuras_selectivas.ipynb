{
 "cells": [
  {
   "cell_type": "markdown",
   "metadata": {},
   "source": [
    "# Ejercicios estructuras selectivas\n",
    "\n",
    "## Ruta\n",
    "Si acabas de empezar a programar, intenta hacer, como mínimo, los ejercicios del 1 al 8. Después intenta el 9 y el 11.\n",
    "\n",
    "Si ya tienes algo de experiencia programando, puedes empezar en el ejercicio 10.\n",
    "\n",
    "## Ejercicio 1\n",
    "\n",
    "Implementa un programa en Python que pida por teclado un número entero y que indique si es par (si es impar, no muestra nada).\n"
   ]
  },
  {
   "cell_type": "code",
   "execution_count": 3,
   "metadata": {},
   "outputs": [],
   "source": [
    "num = int(input(\"Introduce a continuación un número entero: \"))\n",
    "if num % 2 == 0:\n",
    "    print(\"El número\", num, \"es par\")"
   ]
  },
  {
   "cell_type": "markdown",
   "metadata": {},
   "source": [
    "## Ejercicio 2\n",
    "\n",
    "Modifica el programa para que indique si es par o impar."
   ]
  },
  {
   "cell_type": "code",
   "execution_count": 4,
   "metadata": {},
   "outputs": [
    {
     "name": "stdout",
     "output_type": "stream",
     "text": [
      "El número 3 es impar\n"
     ]
    }
   ],
   "source": [
    "num = int(input(\"Introduce a continuación un número entero: \"))\n",
    "if num % 2 == 0:\n",
    "    print(\"El número\", num, \"es par\")\n",
    "else:\n",
    "    print(\"El número\", num, \"es impar\")"
   ]
  },
  {
   "cell_type": "markdown",
   "metadata": {},
   "source": [
    "## Ejercicio 3\n",
    "\n",
    "Implementa un programa en Python que pida dos números por teclado y que muestre por pantalla al menor de los dos (suponemos que no pueden ser iguales).\n"
   ]
  },
  {
   "cell_type": "code",
   "execution_count": 7,
   "metadata": {},
   "outputs": [
    {
     "name": "stdout",
     "output_type": "stream",
     "text": [
      "3\n"
     ]
    }
   ],
   "source": [
    "num1 = int(input(\"Introduce el primer número: \"))\n",
    "num2 = int(input(\"Introduce el segundo número: \"))\n",
    "if num1 < num2:\n",
    "    print(num1)\n",
    "else:\n",
    "    print(num2)"
   ]
  },
  {
   "cell_type": "markdown",
   "metadata": {},
   "source": [
    "## Ejercicio 4\n",
    "\n",
    "Implementa un programa en Python que pida un número por teclado y que muestre por pantalla un mensaje indicando si es o no negativo. El 0 no es negativo."
   ]
  },
  {
   "cell_type": "code",
   "execution_count": 16,
   "metadata": {},
   "outputs": [
    {
     "name": "stdout",
     "output_type": "stream",
     "text": [
      "El número 0 es positivo\n"
     ]
    }
   ],
   "source": [
    "num = int(input(\"Introduce un número: \"))\n",
    "if num >= 0:\n",
    "    print(\"El número\", num, \"es positivo\")\n",
    "else:\n",
    "    print(\"El número\", num, \"es negativo\")"
   ]
  },
  {
   "cell_type": "markdown",
   "metadata": {},
   "source": [
    "## Ejercicio 5\n",
    "\n",
    "Implementa un programa en Python que pida tres números por teclado y muestre por pantalla el mayor de los tres.\n",
    "\n",
    "**VERSIÓN AVANZADA**: Busca información sobre la función `max()` e intenta resolverlo con ella (no necesitarás estructuras selectivas). Busca también la función `min()` y muestra el mayor y el menor de ellos."
   ]
  },
  {
   "cell_type": "code",
   "execution_count": 24,
   "metadata": {},
   "outputs": [
    {
     "name": "stdout",
     "output_type": "stream",
     "text": [
      "El número más alto es 3\n"
     ]
    }
   ],
   "source": [
    "num1 = int(input(\"Introduce el primer número: \"))\n",
    "num2 = int(input(\"Introduce el segundo número: \"))\n",
    "num3 = int(input(\"Introduce el tercer número: \"))\n",
    "if num1 > num2 and num1 > num3:\n",
    "    print(\"El número más alto es\", num1)\n",
    "elif num2 > num1 and num2 > num3:\n",
    "    print(\"El número más alto es\", num2)\n",
    "else:\n",
    "    print(\"El número más alto es\", num3)\n"
   ]
  },
  {
   "cell_type": "code",
   "execution_count": 30,
   "metadata": {},
   "outputs": [
    {
     "name": "stdout",
     "output_type": "stream",
     "text": [
      "67\n",
      "1\n"
     ]
    }
   ],
   "source": [
    "num1 = int(input(\"Introduce el primer número: \"))\n",
    "num2 = int(input(\"Introduce el segundo número: \"))\n",
    "num3 = int(input(\"Introduce el tercer número: \"))\n",
    "print(max(num1, num2, num3))\n",
    "print(min(num1, num2, num3))"
   ]
  },
  {
   "cell_type": "markdown",
   "metadata": {},
   "source": [
    "\n",
    "## Ejercicio 6\n",
    "\n",
    "Modifica el ejercicio 4 para que indique si el número es positivo, negativo o cero."
   ]
  },
  {
   "cell_type": "code",
   "execution_count": 27,
   "metadata": {},
   "outputs": [
    {
     "name": "stdout",
     "output_type": "stream",
     "text": [
      "El número 0 es cero\n"
     ]
    }
   ],
   "source": [
    "num = int(input(\"Introduce un número: \"))\n",
    "if num > 0:\n",
    "    print(\"El número\", num, \"es positivo\")\n",
    "elif num == 0:\n",
    "    print(\"El número\", num, \"es cero\")\n",
    "else:\n",
    "    print(\"El número\", num, \"es negativo\")"
   ]
  },
  {
   "cell_type": "markdown",
   "metadata": {},
   "source": [
    "## Ejercicio 7\n",
    "\n",
    "Implementa un programa en Python que pida un número del 1 al 12 por teclado y que muestre por pantalla el nombre del mes correspondiente.\n"
   ]
  },
  {
   "cell_type": "code",
   "execution_count": 36,
   "metadata": {},
   "outputs": [
    {
     "name": "stdout",
     "output_type": "stream",
     "text": [
      "Tu número no coincide con ningún mes\n"
     ]
    }
   ],
   "source": [
    "num = int(input(\"Introduzca un número del 1 al 12: \"))\n",
    "if num == 1:\n",
    "    print(\"Enero\")\n",
    "elif num == 2:\n",
    "    print(\"Febrero\")\n",
    "elif num == 3:\n",
    "    print(\"Marzo\")\n",
    "elif num == 4:\n",
    "    print(\"Abril\")\n",
    "elif num == 5:\n",
    "    print(\"Mayo\")\n",
    "elif num == 6:\n",
    "    print(\"Junio\")\n",
    "elif num == 7:\n",
    "    print(\"Julio\")\n",
    "elif num == 8:\n",
    "    print(\"Agosto\")\n",
    "elif num == 9:\n",
    "    print(\"Septiembre\")\n",
    "elif num == 10:\n",
    "    print(\"Octubre\")\n",
    "elif num == 11:\n",
    "    print(\"Noviembre\")\n",
    "elif num == 12:\n",
    "    print(\"Diciembre\")\n",
    "else:\n",
    "    print(\"Tu número no coincide con ningún mes\")"
   ]
  },
  {
   "cell_type": "markdown",
   "metadata": {},
   "source": [
    "## Ejercicio 8\n",
    "\n",
    "Implementa un programa en Python para mostrar por pantalla la calificación de una nota a partir de la puntuación introducida por teclado:\n",
    "\n",
    "- [0,5) Suspenso\n",
    "- [5,6) Aprobado\n",
    "- [6,7) Bien\n",
    "- [7,9) Notable\n",
    "- [9,10] Sobresaliente\n"
   ]
  },
  {
   "cell_type": "code",
   "execution_count": 48,
   "metadata": {},
   "outputs": [
    {
     "name": "stdout",
     "output_type": "stream",
     "text": [
      "La nota que has introducido no es válida\n"
     ]
    }
   ],
   "source": [
    "nota = int(input(\"Introduce tu nota: \"))\n",
    "if nota >= 0 and nota < 5:\n",
    "    print(\"Suspenso\")\n",
    "elif nota == 5:\n",
    "    print(\"Aprobado\")\n",
    "elif nota == 6 or nota == 7:\n",
    "    print(\"Bien\")\n",
    "elif nota == 8 or nota == 9:\n",
    "    print(\"Notable\")\n",
    "elif nota == 10:\n",
    "    print(\"Sobresaliente\")\n",
    "else:\n",
    "    print(\"La nota que has introducido no es válida\")"
   ]
  },
  {
   "cell_type": "markdown",
   "metadata": {},
   "source": [
    "## Ejercicio 9\n",
    "\n",
    "Tu ordenador es *fan* de la serie *Game of Thrones* y no admite discusión al respeto, además, es muy purista y solo admite el título original.\n",
    "\n",
    "Crea un programa que pregunte al usuario cuál es su serie favorita y responda lo siguiente, según la contestación del usuario:\n",
    "\n",
    "- Si el usuario contesta “Game of Thrones” el ordenador responderá: `“Por supuesto, Game of Thrones es la mejor serie de la historia!”`\n",
    "- Si el usuario responde “Juego de Tronos” el ordenador responderá: `“No se dice \\<entrada\\>, se dice Game of Thrones”`\n",
    "- En caso contrario, responderá: `“No, la mejor es Game of Thrones!”`\n",
    "\n",
    "**VERSIÓN AVANZADA**: Busca información sobre los métodos `lower()` y `upper()` para poder contestar lo mismo independientemente de cómo el usuario combine mayúsculas y minúsculas."
   ]
  },
  {
   "cell_type": "code",
   "execution_count": 18,
   "metadata": {},
   "outputs": [
    {
     "name": "stdout",
     "output_type": "stream",
     "text": [
      "Por supuesto, Shingeki no Kyojin es la mejor serie de la historia!\n"
     ]
    }
   ],
   "source": [
    "serie = input(\"¿Cuál es tu serie favorita? \")\n",
    "serie = serie.lower()\n",
    "if serie == \"shingeki no kyojin\":\n",
    "    print(\"Por supuesto, Shingeki no Kyojin es la mejor serie de la historia!\")\n",
    "elif serie == \"attack on titan\":\n",
    "    print(\"No se dice '\", serie, \"', se dice Shingeki no Kyojin\", sep=\"\")\n",
    "elif serie == \"ataque a los titanes\":\n",
    "    print(\"No se dice '\", serie, \"', se dice Shingeki no Kyojin\", sep=\"\")\n",
    "else:\n",
    "    print(\"No, la mejor es Shingeki no Kyojin!\")"
   ]
  },
  {
   "cell_type": "code",
   "execution_count": 19,
   "metadata": {},
   "outputs": [
    {
     "name": "stdout",
     "output_type": "stream",
     "text": [
      "Por supuesto, Shingeki no Kyojin es la mejor serie de la historia!\n"
     ]
    }
   ],
   "source": [
    "serie = input(\"¿Cuál es tu serie favorita? \")\n",
    "serie = serie.lower()\n",
    "match serie:\n",
    "    case \"shingeki no kyojin\":\n",
    "        print(\"Por supuesto, Shingeki no Kyojin es la mejor serie de la historia!\")\n",
    "    case \"attack on titan\":\n",
    "        print(\"No se dice '\", serie, \"', se dice Shingeki no Kyojin\", sep=\"\")\n",
    "    case \"ataque a los titanes\":\n",
    "        print(\"No se dice '\", serie, \"', se dice Shingeki no Kyojin\", sep=\"\")\n",
    "    case _:\n",
    "        print(\"No, la mejor es Game of Thrones!\")"
   ]
  },
  {
   "cell_type": "markdown",
   "metadata": {},
   "source": [
    "## Ejercicio 10\n",
    "\n",
    "Implementa un programa en Python que pida un año por teclado y que indique si es bisiesto o no.\n",
    "\n",
    "Si el año no es divisible entre cuatro, no es bisiesto.\n",
    "- En caso contrario, si el año no es divisible entre 100, es bisiesto.\n",
    "- En caso contrario, si el año no es divisible entre 400, no es bisiesto.\n",
    "- En caso contrario, es bisesto.\n",
    "Emplea la construcción `if-elif-else`.\n",
    "\n",
    "**VERSIÓN AVANZADA**: ¿Serías capaz de hacerlo solamente con un `if-else` y una única condición?\n",
    "\n",
    "|Ano|\tResultado|\n",
    "|-|-|\n",
    "|2000|\tBisiesto|\n",
    "|2015|\tNo bisiesto|\n",
    "|1999|\tNo bisiesto|\n",
    "|1996|\tBisiesto|\n",
    "|1900|\tNo bisiesto|\n"
   ]
  },
  {
   "cell_type": "code",
   "execution_count": 9,
   "metadata": {},
   "outputs": [
    {
     "name": "stdout",
     "output_type": "stream",
     "text": [
      "Es bisiesto\n"
     ]
    }
   ],
   "source": [
    "# VERSIÓN SENCILLA:\n",
    "año = int(input(\"Introduzca un año: \"))\n",
    "if año % 4 != 0:\n",
    "    print(\"No es bisiesto\")\n",
    "elif año % 100 != 0:\n",
    "    print(\"Es bisiesto\")\n",
    "elif año % 400 != 0:\n",
    "    print(\"No es bisiesto\")\n",
    "else:\n",
    "    print(\"Es bisiesto\")\n",
    "\n",
    "#en principio funciona (no)"
   ]
  },
  {
   "cell_type": "code",
   "execution_count": 7,
   "metadata": {},
   "outputs": [
    {
     "name": "stdout",
     "output_type": "stream",
     "text": [
      "Es bisiesto\n"
     ]
    }
   ],
   "source": [
    "# VERSIÓN AVANZADA:\n",
    "año = int(input(\"Introduzca un año: \"))\n",
    "if año % 4 != 0 or (año % 100 == 0 and año % 400 != 0):\n",
    "    print(\"No es bisiesto\")\n",
    "else:\n",
    "    print(\"Es bisiesto\")"
   ]
  },
  {
   "cell_type": "markdown",
   "metadata": {},
   "source": [
    "# Ejercicios de estructuras selectivas y operadores"
   ]
  },
  {
   "cell_type": "markdown",
   "metadata": {},
   "source": [
    "## Ejercicio 11\n",
    "\n",
    "Había una vez una tierra próspera y feliz. La gente pagaba impuestos, por supuesto, la felicidad tenía límites. Estos impuestos se pagaban una vez al año segundo los siguientes criterios:\n",
    "- Si la persona no cobraba más de 85528 thalers, el impuesto era el 18% de las ganancias menos 556,02 thalers.\n",
    "- Si las ganancias eran mayores, el impuesto era 14839,02 thalers sumados a un 32% del exceso de las ganancias por encima de los 85528 thalers.\n",
    "\n",
    "Debe aceptar un valor real y mostrar el cálculo del impuesto sin decimales. El gobierno de este país nunca devuelve dinero a sus habitantes, por lo que se el valor del impuesto es negativo, deberá indicar 0.\n",
    "\n",
    "|Ganancias|\tImpuesto|\n",
    "|-|-|\n",
    "|10000 thalers|\t1244 thalers|\n",
    "|100000 thalers|\t19470 thalers|\n",
    "|1000 thalers|\t0 thalers|\n",
    "|100 thalers|\t0 thalers|\n"
   ]
  },
  {
   "cell_type": "code",
   "execution_count": 10,
   "metadata": {},
   "outputs": [
    {
     "name": "stdout",
     "output_type": "stream",
     "text": [
      "19470\n"
     ]
    }
   ],
   "source": [
    "ganancias = int(input(\"Indique a continuación sus ganancias de este año: \"))\n",
    "op1 = (ganancias * 0.18) - 556.02\n",
    "if ganancias < 85528:\n",
    "    if op1 < 0:\n",
    "        print(0)\n",
    "    else:\n",
    "        print(round(op1))\n",
    "elif ganancias > 85528:\n",
    "    print(round((ganancias - 85528) * 0.32 + 14839.02))\n",
    "else:\n",
    "    print(\"Ha introducido un caracter no válido, por favor inténtelo de nuevo.\")"
   ]
  },
  {
   "cell_type": "markdown",
   "metadata": {},
   "source": [
    "## Ejercicio 12\n",
    "\n",
    "Crea una calculadora del mundo mágico de Harry Potter, que convirta galeones, sickels y knuts. Debe ofrecer inicialmente un menú en el que se indiquen las siguientes opciones:\n",
    "- Conversión de galeones a sickels.\n",
    "- Conversión de galeones a knuts.\n",
    "- Conversión de sickles a knuts.\n",
    "- Conversión de knuts a galeones, sickles y knuts (mínimo número de monedas posibles).\n",
    "\n",
    "Recuerda que:\n",
    "- 1 galeón = 17 sickles\n",
    "- 1 sickle = 29 knuts\n",
    "\n",
    "**DATOS DE PRUEBA**\n",
    "|Galeones|Sickles|Knuts|\n",
    "|-|-|-|\n",
    "|10 galeones|170 sickles|4930knuts|\n",
    "|45 galeones|765 sickles|22185knuts|\n",
    "\n",
    "Opción 4\n",
    "\n",
    "|knuts|galeones, sicles, knuts|\n",
    "|-|-|\n",
    "|1000 knuts|2 galeones, 0 sickles y 14 knuts|\n",
    "|36786 knuts|74 galeones,  10 sickles y 14 knuts|\n"
   ]
  },
  {
   "cell_type": "code",
   "execution_count": null,
   "metadata": {},
   "outputs": [],
   "source": []
  },
  {
   "cell_type": "code",
   "execution_count": 1,
   "metadata": {},
   "outputs": [
    {
     "name": "stdout",
     "output_type": "stream",
     "text": [
      "Bienvenido a la calculadora del mundo mágico de Harry Potter, contamos con los siguientes métodos de conversión:\n",
      "1. Conversión de galeones a sickels\n",
      "2. Conversión de galeones a knuts\n",
      "3. Conversión de sickles a knuts\n",
      "4. Conversión de knuts a galeones, sickles y knuts (mínimo número de monedas posibles\n",
      "36786 knuts son 75 galeones\n",
      "36786 knuts son 10 stickles\n",
      "36786 knuts son 14 knuts\n"
     ]
    }
   ],
   "source": [
    "print(\"\"\"Bienvenido a la calculadora del mundo mágico de Harry Potter, contamos con los siguientes métodos de conversión:\n",
    "1. Conversión de galeones a sickels\n",
    "2. Conversión de galeones a knuts\n",
    "3. Conversión de sickles a knuts\n",
    "4. Conversión de knuts a galeones, sickles y knuts (mínimo número de monedas posibles\"\"\")\n",
    "conver = int(input(\"Elija un método de conversión (numero del 1 al 4): \"))\n",
    "cantidad = int(input(\"Indique la cantidad a convertit\"))\n",
    "GALEON_SICKLE = 17\n",
    "GALEON_KNUT = 29\n",
    "if conver == 1:\n",
    "    print(cantidad, \" galeones son\", cantidad * GALEON_SICKLE, \"stickles\")\n",
    "elif conver == 2:\n",
    "    print(cantidad, \" galeones son\", cantidad * GALEON_SICKLE * GALEON_KNUT, \"knuts\")\n",
    "elif conver == 3:\n",
    "    print(cantidad, \" stickles son\", cantidad * GALEON_KNUT, \"knuts\")\n",
    "elif conver == 4:\n",
    "    print(cantidad, \"knuts son\", round(cantidad / GALEON_KNUT / GALEON_SICKLE), \"galeones\")\n",
    "    print(cantidad, \"knuts son\", round(cantidad / GALEON_KNUT % GALEON_SICKLE), \"stickles\")\n",
    "    print(cantidad, \"knuts son\", round(cantidad % GALEON_KNUT), \"knuts\")\n",
    "else:\n",
    "    print(\"Has introducido un argumento no válido\")"
   ]
  },
  {
   "cell_type": "code",
   "execution_count": null,
   "metadata": {},
   "outputs": [],
   "source": [
    "print(\"\"\"Bienvenido a la calculadora del mundo mágico de Harry Potter, contamos con los siguientes métodos de conversión:\n",
    "1. Conversión de galeones a sickels\n",
    "2. Conversión de galeones a knuts\n",
    "3. Conversión de sickles a knuts\n",
    "4. Conversión de knuts a galeones, sickles y knuts (mínimo número de monedas posibles\"\"\")\n",
    "conver = int(input(\"Elija un método de conversión (numero del 1 al 4): \"))\n",
    "cantidad = int(input(\"Indique la cantidad a convertit\"))\n",
    "GALEON_SICKLE = 17\n",
    "GALEON_KNUT = 29\n",
    "match conver:\n",
    "    case 1:\n",
    "        print(cantidad, \" galeones son\", cantidad * GALEON_SICKLE, \"stickles\")\n",
    "    case 2:\n",
    "        print(cantidad, \" galeones son\", cantidad * GALEON_SICKLE * GALEON_KNUT, \"knuts\")\n",
    "    case 3:\n",
    "        print(cantidad, \" stickles son\", cantidad * GALEON_KNUT, \"knuts\")\n",
    "    case 4:\n",
    "        print(cantidad, \"knuts son\", round(cantidad / GALEON_KNUT / GALEON_SICKLE), \"galeones\")\n",
    "        print(cantidad, \"knuts son\", round(cantidad / GALEON_KNUT % GALEON_SICKLE), \"stickles\")\n",
    "        print(cantidad, \"knuts son\", round(cantidad % GALEON_KNUT), \"knuts\")\n",
    "    case _:\n",
    "        print(\"Has introducido un argumento no válido\")"
   ]
  },
  {
   "cell_type": "markdown",
   "metadata": {},
   "source": [
    "## Ejercicio 13\n",
    "\n",
    "Implementa un programa en Python que pida el día, mes y año de una fecha correcta y muestre la fecha del día siguiente. Supón que todos los meses tienen 30 días.\n",
    "\n",
    "**VERSIÓN AVANZADA**: Intenta utilizar la operación módulo."
   ]
  },
  {
   "cell_type": "code",
   "execution_count": 2,
   "metadata": {},
   "outputs": [
    {
     "name": "stdout",
     "output_type": "stream",
     "text": [
      "3/4/2024\n"
     ]
    }
   ],
   "source": [
    "dia = int(input(\"Indique el día\"))\n",
    "mes = int(input(\"Indique el mes\"))\n",
    "año = int(input(\"Indique el año\"))\n",
    "if dia >= 1 and dia <= 30 and mes >= 1 and mes <= 12 and año > 0:\n",
    "    dia += 1\n",
    "    if dia > 30:\n",
    "        mes += 1\n",
    "        dia = 1\n",
    "        if mes > 12:\n",
    "            año += 1\n",
    "            mes = 1\n",
    "else:\n",
    "    print(\"La fecha introducida no es correcta\")"
   ]
  },
  {
   "cell_type": "markdown",
   "metadata": {},
   "source": [
    "## Ejercicio 14\n",
    "Implementa un programa en Python que pida un día de la semana y devuelva si es o no fin de semana. Si introduce cualquier cadena que no sea un día de la semana deberá mostrar un error."
   ]
  },
  {
   "cell_type": "code",
   "execution_count": 11,
   "metadata": {},
   "outputs": [
    {
     "name": "stdout",
     "output_type": "stream",
     "text": [
      "El argumento introducido no es válido\n"
     ]
    }
   ],
   "source": [
    "dia = input(\"Indique el día de la semana\")\n",
    "dia = dia.lower()\n",
    "match dia:\n",
    "    case \"lunes\" | \"martes\" | \"miércoles\" | \"miercoles\" | \"jueves\" | \"viernes\":\n",
    "        print(\"No es fin de semana\")\n",
    "    case \"sábado\" | \"sabado\" | \"domingo\":\n",
    "        print(\"Es fin de semana\")\n",
    "    case _:\n",
    "        print(\"El argumento introducido no es válido\")"
   ]
  },
  {
   "cell_type": "markdown",
   "metadata": {},
   "source": [
    "## Ejercicio 15\n",
    "Repite el ejercicio 8 (conversión de notas) utilizando la sentencia match-case. Las notas serán únicamente números enteros."
   ]
  },
  {
   "cell_type": "code",
   "execution_count": 10,
   "metadata": {},
   "outputs": [
    {
     "name": "stdout",
     "output_type": "stream",
     "text": [
      "Suspenso\n"
     ]
    }
   ],
   "source": [
    "nota = int(input(\"Introduce tu nota: \"))\n",
    "match nota:\n",
    "    case 0 | 1 | 2 | 3 | 4:\n",
    "        print(\"Suspenso\")\n",
    "    case 5:\n",
    "        print(\"Aprobado\")\n",
    "    case 6 | 7:\n",
    "        print(\"Bien\")\n",
    "    case 8 | 9:\n",
    "        print(\"Notable\")\n",
    "    case 10:\n",
    "        print(\"Sobresaliente\")\n",
    "    case _:\n",
    "        print(\"La nota que has introducido no es válida\")"
   ]
  }
 ],
 "metadata": {
  "kernelspec": {
   "display_name": "Python 3",
   "language": "python",
   "name": "python3"
  },
  "language_info": {
   "codemirror_mode": {
    "name": "ipython",
    "version": 3
   },
   "file_extension": ".py",
   "mimetype": "text/x-python",
   "name": "python",
   "nbconvert_exporter": "python",
   "pygments_lexer": "ipython3",
   "version": "3.12.3"
  },
  "orig_nbformat": 4
 },
 "nbformat": 4,
 "nbformat_minor": 2
}
