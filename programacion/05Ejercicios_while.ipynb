{
 "cells": [
  {
   "cell_type": "markdown",
   "metadata": {},
   "source": [
    "# Ejercicios `while`"
   ]
  },
  {
   "cell_type": "markdown",
   "metadata": {},
   "source": [
    "## Hoja de ruta\n",
    "Si acabas de empezar a programar, deberías ser capaz de resolver los ejercicios del 1 al 4."
   ]
  },
  {
   "cell_type": "markdown",
   "metadata": {},
   "source": [
    "## Ejercicio 1\n",
    "\n",
    "Pide al usuario que escriba una contraseña y utiliza un bucle while para seguir pidiendo la contraseña hasta que coincida aquella almacenada previamente en una variable."
   ]
  },
  {
   "cell_type": "code",
   "execution_count": 13,
   "metadata": {},
   "outputs": [
    {
     "name": "stdout",
     "output_type": "stream",
     "text": [
      "La contraseña es correcta\n"
     ]
    }
   ],
   "source": [
    "contraseña1 = input(\"Introduce una contraseña (no la olvides): \")\n",
    "contraseña2 = input(\"de nuevo su contraseña: \")\n",
    "while contraseña2 != contraseña1:\n",
    "        contraseña2 = input(\"Introduzca de nuevo su contraseña: \")\n",
    "print(\"La contraseña es correcta\")\n",
    "\n",
    "# Pedimos que meta de nuevo la contraseña antes de entrar en el bucle porque de este modo, si la pone bien imprime el print que indica que es correcto,\n",
    "# pero si la pone mal entra en el bucle y no sale hasta que se introduzca bien la contraseña"
   ]
  },
  {
   "cell_type": "markdown",
   "metadata": {},
   "source": [
    "## Ejercicio 2\n",
    "\n",
    "Implementa un programa que muestre continuamente este menú hasta que el usuario elija la opción de salir:\n",
    "```\n",
    "    1. Saludar\n",
    "    2. Despedir\n",
    "    3. Salir\n",
    "```\n",
    "\n",
    "Si el usuario elige \"Saludar\", el programa escribirá \"Hola\"; si elige \"Despedir\", escribirá \"Adiós\"; si elige \"Salir\", se detendrá la ejecución del programa."
   ]
  },
  {
   "cell_type": "code",
   "execution_count": 7,
   "metadata": {},
   "outputs": [
    {
     "name": "stdout",
     "output_type": "stream",
     "text": [
      "Hola!\n",
      "Adiós!\n",
      "Adiós!\n",
      "Hola!\n",
      "Adiós!\n"
     ]
    }
   ],
   "source": [
    "print(\"\"\"Menú de opciones:\n",
    "      1. Saludar\n",
    "      2. Despedir\n",
    "      3. Salir\n",
    "      \"\"\", end=\"\\n\")\n",
    "opcion = \"\"\n",
    "while opcion != 3:\n",
    "    opcion = int(input(\"Elija una opción: \"))\n",
    "    match opcion:\n",
    "        case 1:\n",
    "            print(\"Hola!\")\n",
    "        case 2:\n",
    "            print(\"Adiós!\")\n"
   ]
  },
  {
   "cell_type": "markdown",
   "metadata": {},
   "source": [
    "\n",
    "## Ejercicio 3\n",
    "\n",
    "Implementa un programa que muestre al usuario los múltiplos de un número:\n",
    "\n",
    "1. Inicialmente, pregunta al usuario el número del que mostrar los múltiplos.\n",
    "2. A continuación, muestra cada múltiplo y pregunta al usuario si quiere seguir mostrando múltiplos.\n",
    "3. El programa continúa hasta que el usuario dice que no quiere ver más múltiplos.\n",
    "\n",
    "Ejemplo de ejecución:\n",
    "\n",
    "```\n",
    "Escribe un número para ver sus múltiplos: 3\n",
    "3\n",
    "¿Quiere ver más múltiplos? (s/n): s\n",
    "6\n",
    "¿Quiere ver más múltiplos? (s/n): s\n",
    "9\n",
    "¿Quiere ver más múltiplos? (s/n): n\n",
    "¡Hasta luego!\n",
    "```"
   ]
  },
  {
   "cell_type": "code",
   "execution_count": 14,
   "metadata": {},
   "outputs": [
    {
     "name": "stdout",
     "output_type": "stream",
     "text": [
      "3\n",
      "¿Quiere ver más múltiplos?\n",
      "6\n",
      "¿Quiere ver más múltiplos?\n",
      "9\n",
      "¿Quiere ver más múltiplos?\n",
      "12\n",
      "¿Quiere ver más múltiplos?\n",
      "¡Hasta luego!\n"
     ]
    }
   ],
   "source": [
    "num = int(input(\"Escribe un número para ver sus múltiplos: \"))\n",
    "pregunta = \"s\"\n",
    "multi = 0\n",
    "while pregunta == \"s\":\n",
    "    multi += 1\n",
    "    res = num * multi\n",
    "    print(res)\n",
    "    pregunta = input(\"¿Quiere ver más múltiplos? (s/n): \")\n",
    "    print(\"¿Quiere ver más múltiplos?\")\n",
    "    if pregunta != \"s\" or pregunta == \"n\":\n",
    "        print(\"¡Hasta luego!\")"
   ]
  },
  {
   "cell_type": "markdown",
   "metadata": {},
   "source": [
    "Hacer el mismo ejercicio con el bucle for:"
   ]
  },
  {
   "cell_type": "code",
   "execution_count": 18,
   "metadata": {},
   "outputs": [
    {
     "name": "stdout",
     "output_type": "stream",
     "text": [
      "3\n",
      "6\n",
      "9\n",
      "12\n",
      "15\n",
      "18\n",
      "21\n",
      "24\n",
      "27\n",
      "30\n"
     ]
    }
   ],
   "source": [
    "num = int(input(\"Introduzca un número para ver sus múltiplos: \"))\n",
    "num_multiplos = int(input(\"Introduzca el número de múltiplos que quiere ver: \"))\n",
    "for i in range(1, num_multiplos+1):\n",
    "    print(num * i)"
   ]
  },
  {
   "cell_type": "code",
   "execution_count": 19,
   "metadata": {},
   "outputs": [
    {
     "name": "stdout",
     "output_type": "stream",
     "text": [
      "3\n",
      "6\n",
      "9\n",
      "12\n",
      "15\n",
      "18\n",
      "21\n",
      "24\n",
      "27\n",
      "30\n"
     ]
    }
   ],
   "source": [
    "num = int(input(\"Introduzca un número para ver sus múltiplos: \"))\n",
    "num_multiplos = int(input(\"Introduzca el número de múltiplos que quiere ver: \"))\n",
    "for multiplo in range(num, num * num_multiplos + 1, num):\n",
    "    print(multiplo)"
   ]
  },
  {
   "cell_type": "markdown",
   "metadata": {},
   "source": [
    "## Ejercicio 4\n",
    "\n",
    "Una de las pruebas del torneo de los tres magos consiste en salir de una habitación adivinando un número secreto, para eso Dumbledore decidió aprovechar las nuevas tecnologías y quiere que crees un programa en Python que almacene en una variable el número secreto y sea capaz de comprobar tantas veces como sea preciso si los números indicados por los campeones son los correctos, para eso:\n",
    "- Debe preguntar un número hasta que se acierte el correcto.\n",
    "- Si el campeón no acierta, el programa devuelve `“Hahaha, estás atrapado en mi bucle”`\n",
    "- Si el campeón acierta, el programa devuelve `“Bien hecho. Eres libre!”`"
   ]
  },
  {
   "cell_type": "code",
   "execution_count": 2,
   "metadata": {},
   "outputs": [
    {
     "name": "stdout",
     "output_type": "stream",
     "text": [
      "Hahaha, estás atrapado en mi bucle\n",
      "Hahaha, estás atrapado en mi bucle\n",
      "Hahaha, estás atrapado en mi bucle\n",
      "Hahaha, estás atrapado en mi bucle\n",
      "Bien hecho. Eres libre!\n"
     ]
    }
   ],
   "source": [
    "NUM = \"\"\n",
    "while NUM != 80:\n",
    "    NUM = int(input(\"Intente adivinar el número: \"))\n",
    "    if NUM != 80:\n",
    "        print(\"Hahaha, estás atrapado en mi bucle\")\n",
    "    else:\n",
    "        print(\"Bien hecho. Eres libre!\")"
   ]
  },
  {
   "cell_type": "markdown",
   "metadata": {},
   "source": [
    "\n",
    "## Ejercicio 5\n",
    "\n",
    "\n",
    "Implementa un programa que calcule cuantos números naturales (1, 2, 3, 4...) debemos sumar en secuencia para obtener por lo menos un valor de 200000, es decir: hasta qué valor llegará el sumatorio `1 + 2 + 3 + 4 + 5 + ...` para que la suma alcance el valor 200000? Debes devolver el último número que se suma.\n",
    "\n",
    "El resultado es 632."
   ]
  },
  {
   "cell_type": "code",
   "execution_count": 1,
   "metadata": {},
   "outputs": [
    {
     "name": "stdout",
     "output_type": "stream",
     "text": [
      "El resultado es 632\n"
     ]
    }
   ],
   "source": [
    "suma = 0\n",
    "num = 0\n",
    "while suma < 199999:\n",
    "    num += 1\n",
    "    suma += num\n",
    "print(\"El resultado es\", num)"
   ]
  },
  {
   "cell_type": "markdown",
   "metadata": {},
   "source": [
    "## Ejercicio 6\n",
    "\n",
    "Implementa un programa que pida por teclado la fecha de nacimiento de una persona (día, mes, año) y calcule su número de la suerte.\n",
    "\n",
    "El número de la suerte se calcula sumando el día, mes y año de la fecha de nacimiento y, a continuación, sumando las cifras obtenidas en la suma.\n",
    "\n",
    "Por ejemplo, si la fecha de nacimiento es 12/07/1980, calculamos el número de la suerte así: 12 + 7 + 1980 = 1999  -> 1+9+9+9 = 28\n",
    "\n",
    "Número de la suerte: 28\n"
   ]
  },
  {
   "cell_type": "code",
   "execution_count": null,
   "metadata": {},
   "outputs": [],
   "source": [
    "dia = int(input(\"Introduzca su día de nacimiento: \"))\n",
    "mes = int(input(\"Introduzca su mes de nacimiento: \"))\n",
    "año = int(input(\"Introduzca su año de nacimiento: \"))\n",
    "suma = dia + mes + año\n",
    "numsuerte = 0\n",
    "valor = \"\"\n",
    "while valor == \"\":\n",
    "    "
   ]
  },
  {
   "cell_type": "code",
   "execution_count": 8,
   "metadata": {},
   "outputs": [
    {
     "name": "stdout",
     "output_type": "stream",
     "text": [
      "Tu número de la suerte es 28\n"
     ]
    }
   ],
   "source": [
    "dia = int(input(\"Introduzca su día de nacimiento: \"))\n",
    "mes = int(input(\"Introduzca su mes de nacimiento: \"))\n",
    "año = int(input(\"Introduzca su año de nacimiento: \"))\n",
    "suma = dia + mes + año\n",
    "numsuerte = 0\n",
    "for digito in str(suma):\n",
    "    numsuerte += int(digito)\n",
    "print(\"Tu número de la suerte es\", numsuerte)\n",
    "\n",
    "# Si usamos for() con range() imprime los valores dentro del range, se utiliza para trabajar con números.\n",
    "# Si usamos for() con in palabra (un valor con cadena) imprime los caracteres de la cadena 1x1, utilizado para cadenas.\n",
    "#   Podemos utilizar una variable resultante de una operación matemática pasándolo a cadena, se hace con str()"
   ]
  }
 ],
 "metadata": {
  "kernelspec": {
   "display_name": "Python 3",
   "language": "python",
   "name": "python3"
  },
  "language_info": {
   "codemirror_mode": {
    "name": "ipython",
    "version": 3
   },
   "file_extension": ".py",
   "mimetype": "text/x-python",
   "name": "python",
   "nbconvert_exporter": "python",
   "pygments_lexer": "ipython3",
   "version": "3.12.3"
  },
  "orig_nbformat": 4
 },
 "nbformat": 4,
 "nbformat_minor": 2
}
